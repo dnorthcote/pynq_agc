{
 "cells": [
  {
   "cell_type": "markdown",
   "metadata": {},
   "source": [
    "<img src=\"assets/banner.png\" width=\"100%\" align=\"left\" style=\"left\">"
   ]
  },
  {
   "cell_type": "markdown",
   "metadata": {},
   "source": [
    "## RF Automatic Gain Control with PYNQ\n",
    "\n",
    "We present an Automatic Gain Control (AGC) circuit for control of an analogue/RF amplifier with an interactive GUI exposing its parameters. This example requires an external amplifier (the [VeGA from Nooelec](https://www.nooelec.com/store/downloads/dl/file/id/103/product/334/vega_datasheet_revision_1.pdf)) and some attenuators.\n",
    "This very simple design focuses on using the RFSoC's \"threshold\" feedback signals, allowing us to make decisions based on the true input signal --- even before any mixing or decimation. This let's us ensure that the input signal is occupying the full scale of the ADC, minimising quantisation errors without exceeding the limits of the device. We'll generate various input signals, explore some of the limits of this  AGC algorithm, and practice tweaking our parameters for best performance.\n",
    "The design of this AGC example and the use of the RF Data Converter's threshold signals will be explored.\n",
    "\n",
    "## Aims\n",
    "* Set up an AGC system with an RFSoC and an external amplifier\n",
    "* Design test signals and capture our system's output at full RF speeds\n",
    "* Interactively explore the behaviour of an AGC circuit and amplifier\n",
    "* Learn to tune the AGC parameters for different scenarios and encounter the limits of our amplifier configuration\n",
    "\n",
    "## Table of Contents\n",
    "\n",
    "* [1. Introduction](#1.-Introduction)\n",
    "* [2. ...And we're off!](#go)\n",
    "* [3. Exploring some scenarios](#scenarios)\n",
    "* [4. A closer look at the hardware](#hw)\n",
    "    * [4.1 Power estimation](#power-est)\n",
    "    * [4.2 Logarithms and exponentials](#log-est)\n",
    "* [5. Conclusion](#conclusion)\n",
    "\n",
    "----"
   ]
  },
  {
   "cell_type": "markdown",
   "metadata": {},
   "source": [
    "## 1. Introduction\n",
    "\n",
    "Unlike the previous example, our FPGA design will be quite straightforward here. We will rely on the RF Data Converter for our signal monitoring and an [external amplifier](https://www.nooelec.com/store/downloads/dl/file/id/103/product/334/vega_datasheet_revision_1.pdf) to provide analogue gain.\n",
    "This means that the system is suitable for automatic gain control of RF signals _before_ they enter the ADC, rather than the previous example's fully digital approach for baseband.\n",
    "Working in the analogue world means that our goals are a little different too. Instead of providing a constant average power for downstream synchronistation or receiver circuits, we will focus more on matching the RF signal to the characteristics of the ADC. In short, we want to ensure that our signal of interest occupies as much of the ADC's range as possible, without exceeding its upper limit. This will help us minimise quantisation errors and give the downstream design a signal with the best characteristics we can.\n",
    "\n",
    "Let's take a look at how this hardware design is structured.\n",
    "\n",
    "<a class=\"anchor\" id=\"fig-1\"></a>\n",
    "<figure>\n",
    "    <img src='./assets/aagc_loopback_overview.svg'/>\n",
    "    <figcaption><b>Figure 1: System overview </b></figcaption>\n",
    "</figure>\n",
    "\n",
    "This version of our AGC example introduces the RF Data Converter block and an external amplifier. Apart from these additions, the overall structure remains quite familiar. We'll use PYNQ to craft a test signal in software, send it to the DAC via a DMA channel, and simultaneously receive from the ADC on another DMA channel.\n",
    "\n",
    "Just before we start to interact with this design, let's take a moment to explore the AGC circuit and the assistance we get from the Data Converter's threshold signals.\n",
    "\n",
    "### Using the RF Data Converter's thresholds\n",
    "\n",
    "The ADCs on the RF Data Converter can provide us with two user controlled threshold flags per channel. Note there are other flags for overrange and overvoltage events, but we simply ignore them here.\n",
    "\n",
    "For our purposes, we'll employ the `hysteresis` mode. Full documentation for all modes can be found in Xilinx's [Product Guide 269](https://www.xilinx.com/support/documentation/ip_documentation/usp_rf_data_converter/v2_4/pg269-rf-data-converter.pdf). Hysteresis mode allows us to configure an upper threshold value, a lower threshold value, and a hysteresis time. The output will be set as soon as the analogue input to the ADC exceeds our upper threshold value. It will remain set until the input signal remains below our lower threshold for our entire hysteresis time.\n",
    "\n",
    "WE USE TWO THRESHOLDS WITH ONE VALUE EACH.\n",
    "\n",
    "The plot below shows a threshold signal in hysteresis mode with an example signal with AGC running.\n",
    "\n",
    "<a class=\"anchor\" id=\"fig-1\"></a>\n",
    "<figure>\n",
    "    <img src='./assets/rfdc_threshold_graph.svg'/>\n",
    "    <figcaption><b>Figure 2: Example of Hysteresis thresholding in action </b></figcaption>\n",
    "</figure>\n"
   ]
  },
  {
   "cell_type": "code",
   "execution_count": null,
   "metadata": {},
   "outputs": [],
   "source": [
    "import pynq_agc\n",
    "from pynq import Overlay\n",
    "import plotly.express as px\n",
    "\n",
    "ol = Overlay('block_design.bit')"
   ]
  },
  {
   "cell_type": "code",
   "execution_count": null,
   "metadata": {},
   "outputs": [],
   "source": [
    "ol.rf_agc.gui()"
   ]
  }
 ],
 "metadata": {
  "kernelspec": {
   "display_name": "Python 3",
   "language": "python",
   "name": "python3"
  },
  "language_info": {
   "codemirror_mode": {
    "name": "ipython",
    "version": 3
   },
   "file_extension": ".py",
   "mimetype": "text/x-python",
   "name": "python",
   "nbconvert_exporter": "python",
   "pygments_lexer": "ipython3",
   "version": "3.8.5"
  }
 },
 "nbformat": 4,
 "nbformat_minor": 4
}
