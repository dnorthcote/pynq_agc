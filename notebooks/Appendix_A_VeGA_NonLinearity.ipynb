{
 "cells": [
  {
   "cell_type": "markdown",
   "metadata": {},
   "source": [
    "# Correcting for our Amplifier's non-linear control\n",
    "\n",
    "As discussed in the main notebook, we want to control our [variable gain amplifier (VGA)](https://www.nooelec.com/store/downloads/dl/file/id/103/product/334/vega_datasheet_revision_1.pdf) linearly for our AGC.\n",
    "The main complication here is that our control signal to the VGA, $V_c$, is not linear with respect to gain! We will need to compensate for this when generating our control output.\n",
    "\n",
    "The [Nooelec datasheet](https://www.nooelec.com/store/downloads/dl/file/id/103/product/334/vega_datasheet_revision_1.pdf) for the VeGA amplifier shows the following relationship between the control voltage and output gain (in decibels).\n",
    "\n",
    "![control voltage to gain plot for Nooelec VeGA](./assets/vega_response.svg)\n",
    "\n",
    "Note that the middle section of the graph is approximately linear in dB, which is an indication this compensation could be performed in the logarithmic domain. One option is to implement a logarithm in the FPGA, much like we did in the [baseband AGC notebook](1_Baseband_AGC). However, since we only have a 6-bit control for this amplifier, we will simply make a look-up table to map our digital control to appropriate $V_c$ values."
   ]
  },
  {
   "cell_type": "markdown",
   "metadata": {},
   "source": [
    "## Modelling the VeGA's response\n",
    "\n",
    "We've very roughly recreated the response from the datasheet for a $1000$ MHz signal via visual inspection (read as: \"We used GIMP\").\n",
    "Let's plot this below, now against a linear y-axis."
   ]
  },
  {
   "cell_type": "code",
   "execution_count": null,
   "metadata": {},
   "outputs": [],
   "source": [
    "import plotly.express as px\n",
    "import pandas as pd\n",
    "import numpy as np\n",
    "from scipy.optimize import curve_fit"
   ]
  },
  {
   "cell_type": "code",
   "execution_count": null,
   "metadata": {},
   "outputs": [],
   "source": [
    "gain_db = [13,13,14,15,17,20,23,26,30,34,37,38,40,40,40.5,40.5,40.5]\n",
    "gain_lin = [10**(db/20) for db in gain_db]\n",
    "vc      = [i*0.2 for i in range(len(gain_db))]\n",
    "\n",
    "frame = pd.DataFrame({'Vc': vc, 'Gain (dB)':gain_db, 'Gain (lin)':gain_lin})\n",
    "\n",
    "px.line(frame, 'Vc', 'Gain (lin)')"
   ]
  },
  {
   "cell_type": "markdown",
   "metadata": {},
   "source": [
    "The \"S\" shape of this response is characteristic of a sigmoid function. We will need the inverse of this response in order to compensate for it, so let's try modelling it mathematically with the help of `scipy`. First, let's normalise the graph above --- we don't really care about the absolute values of decibel gain or $V_c$, just their relationship."
   ]
  },
  {
   "cell_type": "code",
   "execution_count": null,
   "metadata": {},
   "outputs": [],
   "source": [
    "normalise = lambda xs : [(x-min(xs))/(max(xs)-min(xs)) for x in xs]\n",
    "gain_lin = normalise(gain_lin)\n",
    "vc       = normalise(vc)\n",
    "frame    = pd.DataFrame({'Vc': vc, 'Gain (lin)':gain_lin})\n",
    "\n",
    "px.line(frame, 'Vc', 'Gain (lin)')"
   ]
  },
  {
   "cell_type": "markdown",
   "metadata": {},
   "source": [
    "We know we're expecting some sort of sigmoid function, so let's define such a function  (and its inverse) with parameters for scaling and offsets in both axes. Since the y-axis is between 0 and 1, we know the y scaling factor and y offset ahead of time --- let's fix those values now too."
   ]
  },
  {
   "cell_type": "code",
   "execution_count": null,
   "metadata": {},
   "outputs": [],
   "source": [
    "np.seterr(divide='ignore')\n",
    "\n",
    "def sigmoid(xs, x_scaling, y_scaling, x_offset, y_offset):\n",
    "    return y_scaling * np.tanh(xs * x_scaling - x_offset) + y_offset\n",
    "\n",
    "def inv_sigmoid(xs, x_scaling, y_scaling, x_offset, y_offset):\n",
    "    y = (1/x_scaling) * (np.arctanh((xs - y_offset) / y_scaling) + x_offset)\n",
    "    y[y == -np.inf] = 0\n",
    "    y[y == np.inf] = 1\n",
    "    return y\n",
    "\n",
    "our_sigmoid     = lambda x, x_scaling, x_offset :     sigmoid(x, x_scaling, 0.5, x_offset, 0.5)\n",
    "our_inv_sigmoid = lambda x, x_scaling, x_offset : inv_sigmoid(x, x_scaling, 0.5, x_offset, 0.5)"
   ]
  },
  {
   "cell_type": "markdown",
   "metadata": {},
   "source": [
    "Given our known $V_c$ values and this sigmoid function, we can ask `scipy` to find the sigmoid function parameters that best represent our gain control. "
   ]
  },
  {
   "cell_type": "code",
   "execution_count": null,
   "metadata": {},
   "outputs": [],
   "source": [
    "popt, pcov = curve_fit(our_sigmoid, np.array(vc), gain_lin, bounds=(0, [100, 100]))\n",
    "frame['Gain Model (lin)'] = our_sigmoid(np.array(vc), popt[0], popt[1])\n",
    "\n",
    "\n",
    "frame_time = pd.melt(frame, id_vars=['Vc'], value_vars=['Gain (lin)', 'Gain Model (lin)'], var_name='c', value_name='y')\n",
    "px.line(frame_time, x='Vc', y='y', color='c')"
   ]
  },
  {
   "cell_type": "markdown",
   "metadata": {},
   "source": [
    "As we can see from the visualisation, this model does seem to closely resemble our gain/$V_c$ response.\n",
    "\n",
    "## Generating a calibration lookup table\n",
    "\n",
    "Now that we have modelled this mathematically, we can implement this compensation with a simple lookup table of values using the inverse sigmoid function.Let's generate the contents of the lookup table ROM now. Our output is 6 bits, so we can fit our LUT into one BRAM when configured as 4Kx9 (i.e. a 12 bit address). Note that we're using more than 6 bits on the input because of the logarithmic nature of the output --- using 6 bits at the input would result in many of the possible output words being unoccupied. In maths speak, it'd be non-injective and non-surjective. In practice it appears that our 12 bit address is enough to at least make this a surjective function."
   ]
  },
  {
   "cell_type": "code",
   "execution_count": null,
   "metadata": {},
   "outputs": [],
   "source": [
    "addr_bits = 12\n",
    "word_bits = 6\n",
    "quantised_gain = normalise(range(2**addr_bits))\n",
    "xs = our_inv_sigmoid(np.array(quantised_gain), popt[0], popt[1])\n",
    "\n",
    "# Constrain to normal range\n",
    "xs = [min(1, max(0,x)) for x in xs]\n",
    "\n",
    "quantised_vc = normalise(xs)\n",
    "scaled_quantised_vc = [int((2**word_bits-1) * vc) for vc in quantised_vc]\n",
    "\n",
    "np.array(scaled_quantised_vc)"
   ]
  },
  {
   "cell_type": "code",
   "execution_count": null,
   "metadata": {},
   "outputs": [],
   "source": [
    "print(\"\"\"\n",
    "lutData :: Vec 4096 (Unsigned 6)\n",
    "lutData = map unpack $\"\"\")\n",
    "\n",
    "print('  ', end='')\n",
    "for (i,b) in enumerate(scaled_quantised_vc):\n",
    "    print('0b{0:06b} :> '.format(int(b)), end='')\n",
    "    if i % 8 == 7: \n",
    "        print(\"\\n  \", end='')"
   ]
  },
  {
   "cell_type": "markdown",
   "metadata": {},
   "source": [
    "We can confirm that we're using the full scale of the 6 output bits, and we're good to copy and paste this into our HDL source!\n",
    "\n",
    "### References\n",
    "\n",
    "1: https://www.nooelec.com/store/downloads/dl/file/id/103/product/334/vega_datasheet_revision_1.pdf \"VeGA Datasheet\"\n",
    "\n",
    "2: https://docs.scipy.org/doc/scipy/reference/generated/scipy.optimize.curve_fit.html \"Docs for scipy curve fitting\"\n",
    "\n",
    "3: https://www.xilinx.com/support/documentation/user_guides/ug573-ultrascale-memory-resources.pdf \"UG573 UltraScale Architecture\n",
    "Memory Resources\""
   ]
  }
 ],
 "metadata": {
  "kernelspec": {
   "display_name": "Python 3",
   "language": "python",
   "name": "python3"
  },
  "language_info": {
   "codemirror_mode": {
    "name": "ipython",
    "version": 3
   },
   "file_extension": ".py",
   "mimetype": "text/x-python",
   "name": "python",
   "nbconvert_exporter": "python",
   "pygments_lexer": "ipython3",
   "version": "3.8.5"
  }
 },
 "nbformat": 4,
 "nbformat_minor": 4
}
